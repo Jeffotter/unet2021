{
 "cells": [
  {
   "cell_type": "code",
   "execution_count": 21,
   "id": "d0cb8ee9",
   "metadata": {},
   "outputs": [],
   "source": [
    "import pandas as pd\n",
    "import numpy as np\n",
    "import nibabel as nib\n",
    "import torch\n",
    "import matplotlib.pyplot as plt\n",
    "\n",
    "def shape_change(d_array):\n",
    "    p_array=np.pad(d_array, ((5,5), (0,0), (5, 5)), 'constant')[:,12:204,:]\n",
    "    return p_array"
   ]
  },
  {
   "cell_type": "code",
   "execution_count": 22,
   "id": "f8fd4283",
   "metadata": {},
   "outputs": [],
   "source": [
    "train_data=pd.read_csv('train.csv')\n",
    "val_data=pd.read_csv('val.csv')\n",
    "x_train=train_data['input_file_path']+'.nii'"
   ]
  },
  {
   "cell_type": "code",
   "execution_count": 23,
   "id": "cb059d99",
   "metadata": {},
   "outputs": [],
   "source": [
    "class DoubleConv(torch.nn.Module):\n",
    "    \"\"\" this function is what we are calling instead of writing in the layers each time\"\"\"\n",
    "    \n",
    "    def __init__(self,in_channels, out_channels):\n",
    "        \n",
    "        super().__init__()\n",
    "        self.step=torch.nn.Sequential(torch.nn.Conv3d(in_channels,out_channels,3,padding=1),\n",
    "                                     torch.nn.ReLU(),\n",
    "                                      torch.nn.Conv3d(out_channels,out_channels,3,padding=1),\n",
    "                                      torch.nn.ReLU()\n",
    "                                        )\n",
    "    def forward(self,X):\n",
    "        return self.step(X)\n",
    "    \n"
   ]
  },
  {
   "cell_type": "code",
   "execution_count": null,
   "id": "5d191776",
   "metadata": {},
   "outputs": [],
   "source": []
  },
  {
   "cell_type": "code",
   "execution_count": 30,
   "id": "fd8db227",
   "metadata": {},
   "outputs": [],
   "source": [
    "class UNet(torch.nn.Module):\n",
    "    \"\"\"\n",
    "    This class implements a UNet for the Segmentation\n",
    "    We use 3 down- and 3 UpConvolutions and two Convolutions in each step\n",
    "    \"\"\"\n",
    "\n",
    "    def __init__(self):\n",
    "        \"\"\"Sets up the U-Net Structure\n",
    "        \"\"\"\n",
    "        super().__init__()\n",
    "        \n",
    "        \n",
    "        ############# DOWN #####################\n",
    "        self.layer1 = DoubleConv(1, 32)\n",
    "        self.layer2 = DoubleConv(32, 64)\n",
    "        self.layer3 = DoubleConv(64, 128)\n",
    "        self.layer4 = DoubleConv(128, 256)\n",
    "\n",
    "        #########################################\n",
    "        \n",
    "        ############## UP #######################\n",
    "        self.layer5 = DoubleConv(256 + 128, 128)\n",
    "        self.layer6 = DoubleConv(128+64, 64)\n",
    "        self.layer7 = DoubleConv(64+32, 32)\n",
    "        self.layer8 = torch.nn.Conv3d(32, 90, 1)  # Output: 90 values -> background, + Desikan Killany Atlas\n",
    "        #########################################\n",
    "\n",
    "        self.maxpool = torch.nn.MaxPool3d(2)\n",
    "\n",
    "    def forward(self, x):\n",
    "        \n",
    "        ####### DownConv 1#########\n",
    "        x1 = self.layer1(x)\n",
    "        x1m = self.maxpool(x1)\n",
    "        ###########################\n",
    "        \n",
    "        ####### DownConv 2#########        \n",
    "        x2 = self.layer2(x1m)\n",
    "        x2m = self.maxpool(x2)\n",
    "        ###########################\n",
    "\n",
    "        ####### DownConv 3#########        \n",
    "        x3 = self.layer3(x2m)\n",
    "        x3m = self.maxpool(x3)\n",
    "        ###########################\n",
    "        \n",
    "        ##### Intermediate Layer ## \n",
    "        x4 = self.layer4(x3m)\n",
    "        ###########################\n",
    "        ####### UpCONV 1#########        \n",
    "        x5 = torch.nn.Upsample(scale_factor=2, mode=\"trilinear\")(x4)  # Upsample with a factor of 2\n",
    "        print(x5.size())\n",
    "        x5 = torch.cat([x5, x3], dim=1)  # Skip-Connection\n",
    "        print(x5.size())\n",
    "        x5 = self.layer5(x5)\n",
    "        ###########################\n",
    "\n",
    "        ####### UpCONV 2#########        \n",
    "        x6 = torch.nn.Upsample(scale_factor=2, mode=\"trilinear\")(x5)        \n",
    "        x6 = torch.cat([x6, x2], dim=1)  # Skip-Connection    \n",
    "        x6 = self.layer6(x6)\n",
    "        ###########################\n",
    "        \n",
    "        ####### UpCONV 3#########        \n",
    "        x7 = torch.nn.Upsample(scale_factor=2, mode=\"trilinear\")(x6)\n",
    "        x7 = torch.cat([x7, x1], dim=1)       \n",
    "        x7 = self.layer7(x7)\n",
    "        ###########################\n",
    "        \n",
    "        ####### Predicted segmentation#########        \n",
    "        ret = self.layer8(x7)\n",
    "        return ret,x4"
   ]
  },
  {
   "cell_type": "markdown",
   "id": "fb9630a4",
   "metadata": {},
   "source": [
    "# Test to see if the neural network works"
   ]
  },
  {
   "cell_type": "code",
   "execution_count": 31,
   "id": "6195176b",
   "metadata": {},
   "outputs": [
    {
     "name": "stderr",
     "output_type": "stream",
     "text": [
      "/home/jott2/anaconda3/lib/python3.9/site-packages/torch/nn/functional.py:3631: UserWarning: Default upsampling behavior when mode=trilinear is changed to align_corners=False since 0.4.0. Please specify align_corners=True if the old behavior is desired. See the documentation of nn.Upsample for details.\n",
      "  warnings.warn(\n"
     ]
    },
    {
     "name": "stdout",
     "output_type": "stream",
     "text": [
      "torch.Size([1, 256, 48, 48, 48])\n",
      "torch.Size([1, 384, 48, 48, 48])\n",
      "torch.Size([1, 90, 192, 192, 192])\n"
     ]
    }
   ],
   "source": [
    "brain0=np.asarray(nib.load(x_train[0]).get_fdata()) #Get the data from the database\n",
    "brainrdy=shape_change(brain0) #Change to desired square of 192,192,192\n",
    "x=torch.tensor(brainrdy) #Change to a torch tensor\n",
    "x=x[None,None].float() # Get in the correct dimension and datatype\n",
    "model=UNet()\n",
    "with torch.no_grad():\n",
    "    output,layer = model(x)\n",
    "print(output.size())"
   ]
  },
  {
   "cell_type": "code",
   "execution_count": 36,
   "id": "d32f25f2",
   "metadata": {},
   "outputs": [
    {
     "data": {
      "text/plain": [
       "torch.Size([24, 147456])"
      ]
     },
     "execution_count": 36,
     "metadata": {},
     "output_type": "execute_result"
    }
   ],
   "source": [
    "layer.view(-1,256*24*24).shape"
   ]
  },
  {
   "cell_type": "code",
   "execution_count": 35,
   "id": "5133aa0e",
   "metadata": {},
   "outputs": [
    {
     "data": {
      "text/plain": [
       "torch.Size([3538944])"
      ]
     },
     "execution_count": 35,
     "metadata": {},
     "output_type": "execute_result"
    }
   ],
   "source": [
    "layer.flatten().shape"
   ]
  },
  {
   "cell_type": "markdown",
   "id": "7bd1a2ca",
   "metadata": {},
   "source": [
    "# Now save it as model.py and move onto training"
   ]
  },
  {
   "cell_type": "code",
   "execution_count": 54,
   "id": "398924c0",
   "metadata": {},
   "outputs": [
    {
     "name": "stdout",
     "output_type": "stream",
     "text": [
      "# flake8: noqa\r\n",
      "\r\n",
      "import re\r\n",
      "import sys\r\n",
      "import platform\r\n",
      "import torchio\r\n",
      "import torch\r\n",
      "import numpy\r\n",
      "import SimpleITK as sitk\r\n",
      "\r\n",
      "\r\n",
      "sitk_version = re.findall('SimpleITK Version: (.*?)\\n', str(sitk.Version()))[0]\r\n",
      "\r\n",
      "print('Platform:  ', platform.platform())\r\n",
      "print('TorchIO:   ', torchio.__version__)\r\n",
      "print('PyTorch:   ', torch.__version__)\r\n",
      "print('SimpleITK: ', sitk_version)\r\n",
      "print('NumPy:     ', numpy.__version__)\r\n",
      "print('Python:    ', sys.version)\r\n"
     ]
    }
   ],
   "source": [
    "!curl -s https://raw.githubusercontent.com/fepegar/torchio/main/print_system.py"
   ]
  },
  {
   "cell_type": "code",
   "execution_count": null,
   "id": "37558a0d",
   "metadata": {},
   "outputs": [],
   "source": []
  }
 ],
 "metadata": {
  "kernelspec": {
   "display_name": "Python 3 (ipykernel)",
   "language": "python",
   "name": "python3"
  },
  "language_info": {
   "codemirror_mode": {
    "name": "ipython",
    "version": 3
   },
   "file_extension": ".py",
   "mimetype": "text/x-python",
   "name": "python",
   "nbconvert_exporter": "python",
   "pygments_lexer": "ipython3",
   "version": "3.9.7"
  }
 },
 "nbformat": 4,
 "nbformat_minor": 5
}
